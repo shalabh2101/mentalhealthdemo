{
 "cells": [
  {
   "cell_type": "code",
   "execution_count": 1,
   "metadata": {},
   "outputs": [],
   "source": [
    "#Mental Health, Happiness, Economics, Human Freedom"
   ]
  },
  {
   "cell_type": "code",
   "execution_count": 2,
   "metadata": {},
   "outputs": [],
   "source": [
    "\n",
    "\n",
    "import numpy as np\n",
    "import seaborn as sns\n",
    "import pandas as pd\n",
    "import matplotlib.pyplot as plt"
   ]
  },
  {
   "cell_type": "code",
   "execution_count": 3,
   "metadata": {},
   "outputs": [],
   "source": [
    "mtech = pd.read_csv('./Data/mental-heath-in-tech-2016_20161114.csv')"
   ]
  },
  {
   "cell_type": "code",
   "execution_count": 4,
   "metadata": {},
   "outputs": [
    {
     "data": {
      "text/html": [
       "<div>\n",
       "<style scoped>\n",
       "    .dataframe tbody tr th:only-of-type {\n",
       "        vertical-align: middle;\n",
       "    }\n",
       "\n",
       "    .dataframe tbody tr th {\n",
       "        vertical-align: top;\n",
       "    }\n",
       "\n",
       "    .dataframe thead th {\n",
       "        text-align: right;\n",
       "    }\n",
       "</style>\n",
       "<table border=\"1\" class=\"dataframe\">\n",
       "  <thead>\n",
       "    <tr style=\"text-align: right;\">\n",
       "      <th></th>\n",
       "      <th>Are you self-employed?</th>\n",
       "      <th>Is your employer primarily a tech company/organization?</th>\n",
       "      <th>Is your primary role within your company related to tech/IT?</th>\n",
       "      <th>Do you have medical coverage (private insurance or state-provided) which includes treatment of  mental health issues?</th>\n",
       "      <th>Do you have previous employers?</th>\n",
       "      <th>Have you ever sought treatment for a mental health issue from a mental health professional?</th>\n",
       "      <th>What is your age?</th>\n",
       "    </tr>\n",
       "  </thead>\n",
       "  <tbody>\n",
       "    <tr>\n",
       "      <td>count</td>\n",
       "      <td>1433.000000</td>\n",
       "      <td>1146.000000</td>\n",
       "      <td>263.000000</td>\n",
       "      <td>287.000000</td>\n",
       "      <td>1433.000000</td>\n",
       "      <td>1433.000000</td>\n",
       "      <td>1433.000000</td>\n",
       "    </tr>\n",
       "    <tr>\n",
       "      <td>mean</td>\n",
       "      <td>0.200279</td>\n",
       "      <td>0.770506</td>\n",
       "      <td>0.942966</td>\n",
       "      <td>0.644599</td>\n",
       "      <td>0.882066</td>\n",
       "      <td>0.585485</td>\n",
       "      <td>34.286113</td>\n",
       "    </tr>\n",
       "    <tr>\n",
       "      <td>std</td>\n",
       "      <td>0.400349</td>\n",
       "      <td>0.420691</td>\n",
       "      <td>0.232350</td>\n",
       "      <td>0.479471</td>\n",
       "      <td>0.322643</td>\n",
       "      <td>0.492810</td>\n",
       "      <td>11.290931</td>\n",
       "    </tr>\n",
       "    <tr>\n",
       "      <td>min</td>\n",
       "      <td>0.000000</td>\n",
       "      <td>0.000000</td>\n",
       "      <td>0.000000</td>\n",
       "      <td>0.000000</td>\n",
       "      <td>0.000000</td>\n",
       "      <td>0.000000</td>\n",
       "      <td>3.000000</td>\n",
       "    </tr>\n",
       "    <tr>\n",
       "      <td>25%</td>\n",
       "      <td>0.000000</td>\n",
       "      <td>1.000000</td>\n",
       "      <td>1.000000</td>\n",
       "      <td>0.000000</td>\n",
       "      <td>1.000000</td>\n",
       "      <td>0.000000</td>\n",
       "      <td>28.000000</td>\n",
       "    </tr>\n",
       "    <tr>\n",
       "      <td>50%</td>\n",
       "      <td>0.000000</td>\n",
       "      <td>1.000000</td>\n",
       "      <td>1.000000</td>\n",
       "      <td>1.000000</td>\n",
       "      <td>1.000000</td>\n",
       "      <td>1.000000</td>\n",
       "      <td>33.000000</td>\n",
       "    </tr>\n",
       "    <tr>\n",
       "      <td>75%</td>\n",
       "      <td>0.000000</td>\n",
       "      <td>1.000000</td>\n",
       "      <td>1.000000</td>\n",
       "      <td>1.000000</td>\n",
       "      <td>1.000000</td>\n",
       "      <td>1.000000</td>\n",
       "      <td>39.000000</td>\n",
       "    </tr>\n",
       "    <tr>\n",
       "      <td>max</td>\n",
       "      <td>1.000000</td>\n",
       "      <td>1.000000</td>\n",
       "      <td>1.000000</td>\n",
       "      <td>1.000000</td>\n",
       "      <td>1.000000</td>\n",
       "      <td>1.000000</td>\n",
       "      <td>323.000000</td>\n",
       "    </tr>\n",
       "  </tbody>\n",
       "</table>\n",
       "</div>"
      ],
      "text/plain": [
       "       Are you self-employed?  \\\n",
       "count             1433.000000   \n",
       "mean                 0.200279   \n",
       "std                  0.400349   \n",
       "min                  0.000000   \n",
       "25%                  0.000000   \n",
       "50%                  0.000000   \n",
       "75%                  0.000000   \n",
       "max                  1.000000   \n",
       "\n",
       "       Is your employer primarily a tech company/organization?  \\\n",
       "count                                        1146.000000         \n",
       "mean                                            0.770506         \n",
       "std                                             0.420691         \n",
       "min                                             0.000000         \n",
       "25%                                             1.000000         \n",
       "50%                                             1.000000         \n",
       "75%                                             1.000000         \n",
       "max                                             1.000000         \n",
       "\n",
       "       Is your primary role within your company related to tech/IT?  \\\n",
       "count                                         263.000000              \n",
       "mean                                            0.942966              \n",
       "std                                             0.232350              \n",
       "min                                             0.000000              \n",
       "25%                                             1.000000              \n",
       "50%                                             1.000000              \n",
       "75%                                             1.000000              \n",
       "max                                             1.000000              \n",
       "\n",
       "       Do you have medical coverage (private insurance or state-provided) which includes treatment of  mental health issues?  \\\n",
       "count                                         287.000000                                                                       \n",
       "mean                                            0.644599                                                                       \n",
       "std                                             0.479471                                                                       \n",
       "min                                             0.000000                                                                       \n",
       "25%                                             0.000000                                                                       \n",
       "50%                                             1.000000                                                                       \n",
       "75%                                             1.000000                                                                       \n",
       "max                                             1.000000                                                                       \n",
       "\n",
       "       Do you have previous employers?  \\\n",
       "count                      1433.000000   \n",
       "mean                          0.882066   \n",
       "std                           0.322643   \n",
       "min                           0.000000   \n",
       "25%                           1.000000   \n",
       "50%                           1.000000   \n",
       "75%                           1.000000   \n",
       "max                           1.000000   \n",
       "\n",
       "       Have you ever sought treatment for a mental health issue from a mental health professional?  \\\n",
       "count                                        1433.000000                                             \n",
       "mean                                            0.585485                                             \n",
       "std                                             0.492810                                             \n",
       "min                                             0.000000                                             \n",
       "25%                                             0.000000                                             \n",
       "50%                                             1.000000                                             \n",
       "75%                                             1.000000                                             \n",
       "max                                             1.000000                                             \n",
       "\n",
       "       What is your age?  \n",
       "count        1433.000000  \n",
       "mean           34.286113  \n",
       "std            11.290931  \n",
       "min             3.000000  \n",
       "25%            28.000000  \n",
       "50%            33.000000  \n",
       "75%            39.000000  \n",
       "max           323.000000  "
      ]
     },
     "execution_count": 4,
     "metadata": {},
     "output_type": "execute_result"
    }
   ],
   "source": [
    "mtech.describe()"
   ]
  },
  {
   "cell_type": "code",
   "execution_count": 5,
   "metadata": {},
   "outputs": [
    {
     "name": "stdout",
     "output_type": "stream",
     "text": [
      "<class 'pandas.core.frame.DataFrame'>\n",
      "RangeIndex: 1433 entries, 0 to 1432\n",
      "Data columns (total 63 columns):\n",
      "Are you self-employed?                                                                                                                                                              1433 non-null int64\n",
      "How many employees does your company or organization have?                                                                                                                          1146 non-null object\n",
      "Is your employer primarily a tech company/organization?                                                                                                                             1146 non-null float64\n",
      "Is your primary role within your company related to tech/IT?                                                                                                                        263 non-null float64\n",
      "Does your employer provide mental health benefits as part of healthcare coverage?                                                                                                   1146 non-null object\n",
      "Do you know the options for mental health care available under your employer-provided coverage?                                                                                     1013 non-null object\n",
      "Has your employer ever formally discussed mental health (for example, as part of a wellness campaign or other official communication)?                                              1146 non-null object\n",
      "Does your employer offer resources to learn more about mental health concerns and options for seeking help?                                                                         1146 non-null object\n",
      "Is your anonymity protected if you choose to take advantage of mental health or substance abuse treatment resources provided by your employer?                                      1146 non-null object\n",
      "If a mental health issue prompted you to request a medical leave from work, asking for that leave would be:                                                                         1146 non-null object\n",
      "Do you think that discussing a mental health disorder with your employer would have negative consequences?                                                                          1146 non-null object\n",
      "Do you think that discussing a physical health issue with your employer would have negative consequences?                                                                           1146 non-null object\n",
      "Would you feel comfortable discussing a mental health disorder with your coworkers?                                                                                                 1146 non-null object\n",
      "Would you feel comfortable discussing a mental health disorder with your direct supervisor(s)?                                                                                      1146 non-null object\n",
      "Do you feel that your employer takes mental health as seriously as physical health?                                                                                                 1146 non-null object\n",
      "Have you heard of or observed negative consequences for co-workers who have been open about mental health issues in your workplace?                                                 1146 non-null object\n",
      "Do you have medical coverage (private insurance or state-provided) which includes treatment of  mental health issues?                                                               287 non-null float64\n",
      "Do you know local or online resources to seek help for a mental health disorder?                                                                                                    287 non-null object\n",
      "If you have been diagnosed or treated for a mental health disorder, do you ever reveal this to clients or business contacts?                                                        287 non-null object\n",
      "If you have revealed a mental health issue to a client or business contact, do you believe this has impacted you negatively?                                                        144 non-null object\n",
      "If you have been diagnosed or treated for a mental health disorder, do you ever reveal this to coworkers or employees?                                                              287 non-null object\n",
      "If you have revealed a mental health issue to a coworker or employee, do you believe this has impacted you negatively?                                                              287 non-null object\n",
      "Do you believe your productivity is ever affected by a mental health issue?                                                                                                         287 non-null object\n",
      "If yes, what percentage of your work time (time performing primary or secondary job functions) is affected by a mental health issue?                                                204 non-null object\n",
      "Do you have previous employers?                                                                                                                                                     1433 non-null int64\n",
      "Have your previous employers provided mental health benefits?                                                                                                                       1264 non-null object\n",
      "Were you aware of the options for mental health care provided by your previous employers?                                                                                           1264 non-null object\n",
      "Did your previous employers ever formally discuss mental health (as part of a wellness campaign or other official communication)?                                                   1264 non-null object\n",
      "Did your previous employers provide resources to learn more about mental health issues and how to seek help?                                                                        1264 non-null object\n",
      "Was your anonymity protected if you chose to take advantage of mental health or substance abuse treatment resources with previous employers?                                        1264 non-null object\n",
      "Do you think that discussing a mental health disorder with previous employers would have negative consequences?                                                                     1264 non-null object\n",
      "Do you think that discussing a physical health issue with previous employers would have negative consequences?                                                                      1264 non-null object\n",
      "Would you have been willing to discuss a mental health issue with your previous co-workers?                                                                                         1264 non-null object\n",
      "Would you have been willing to discuss a mental health issue with your direct supervisor(s)?                                                                                        1264 non-null object\n",
      "Did you feel that your previous employers took mental health as seriously as physical health?                                                                                       1264 non-null object\n",
      "Did you hear of or observe negative consequences for co-workers with mental health issues in your previous workplaces?                                                              1264 non-null object\n",
      "Would you be willing to bring up a physical health issue with a potential employer in an interview?                                                                                 1433 non-null object\n",
      "Why or why not?                                                                                                                                                                     1095 non-null object\n",
      "Would you bring up a mental health issue with a potential employer in an interview?                                                                                                 1433 non-null object\n",
      "Why or why not?.1                                                                                                                                                                   1126 non-null object\n",
      "Do you feel that being identified as a person with a mental health issue would hurt your career?                                                                                    1433 non-null object\n",
      "Do you think that team members/co-workers would view you more negatively if they knew you suffered from a mental health issue?                                                      1433 non-null object\n",
      "How willing would you be to share with friends and family that you have a mental illness?                                                                                           1433 non-null object\n",
      "Have you observed or experienced an unsupportive or badly handled response to a mental health issue in your current or previous workplace?                                          1344 non-null object\n",
      "Have your observations of how another individual who discussed a mental health disorder made you less likely to reveal a mental health issue yourself in your current workplace?    657 non-null object\n",
      "Do you have a family history of mental illness?                                                                                                                                     1433 non-null object\n",
      "Have you had a mental health disorder in the past?                                                                                                                                  1433 non-null object\n",
      "Do you currently have a mental health disorder?                                                                                                                                     1433 non-null object\n",
      "If yes, what condition(s) have you been diagnosed with?                                                                                                                             568 non-null object\n",
      "If maybe, what condition(s) do you believe you have?                                                                                                                                322 non-null object\n",
      "Have you been diagnosed with a mental health condition by a medical professional?                                                                                                   1433 non-null object\n",
      "If so, what condition(s) were you diagnosed with?                                                                                                                                   711 non-null object\n",
      "Have you ever sought treatment for a mental health issue from a mental health professional?                                                                                         1433 non-null int64\n",
      "If you have a mental health issue, do you feel that it interferes with your work when being treated effectively?                                                                    1433 non-null object\n",
      "If you have a mental health issue, do you feel that it interferes with your work when NOT being treated effectively?                                                                1433 non-null object\n",
      "What is your age?                                                                                                                                                                   1433 non-null int64\n",
      "What is your gender?                                                                                                                                                                1430 non-null object\n",
      "What country do you live in?                                                                                                                                                        1433 non-null object\n",
      "What US state or territory do you live in?                                                                                                                                          840 non-null object\n",
      "What country do you work in?                                                                                                                                                        1433 non-null object\n",
      "What US state or territory do you work in?                                                                                                                                          851 non-null object\n",
      "Which of the following best describes your work position?                                                                                                                           1433 non-null object\n",
      "Do you work remotely?                                                                                                                                                               1433 non-null object\n",
      "dtypes: float64(3), int64(4), object(56)\n",
      "memory usage: 705.4+ KB\n"
     ]
    }
   ],
   "source": [
    "mtech.info()"
   ]
  },
  {
   "cell_type": "code",
   "execution_count": 6,
   "metadata": {},
   "outputs": [
    {
     "data": {
      "text/plain": [
       "(1433, 63)"
      ]
     },
     "execution_count": 6,
     "metadata": {},
     "output_type": "execute_result"
    }
   ],
   "source": [
    "mtech.shape\n"
   ]
  },
  {
   "cell_type": "code",
   "execution_count": 7,
   "metadata": {},
   "outputs": [
    {
     "data": {
      "text/html": [
       "<div>\n",
       "<style scoped>\n",
       "    .dataframe tbody tr th:only-of-type {\n",
       "        vertical-align: middle;\n",
       "    }\n",
       "\n",
       "    .dataframe tbody tr th {\n",
       "        vertical-align: top;\n",
       "    }\n",
       "\n",
       "    .dataframe thead th {\n",
       "        text-align: right;\n",
       "    }\n",
       "</style>\n",
       "<table border=\"1\" class=\"dataframe\">\n",
       "  <thead>\n",
       "    <tr style=\"text-align: right;\">\n",
       "      <th></th>\n",
       "      <th>Are you self-employed?</th>\n",
       "      <th>How many employees does your company or organization have?</th>\n",
       "      <th>Is your employer primarily a tech company/organization?</th>\n",
       "      <th>Is your primary role within your company related to tech/IT?</th>\n",
       "      <th>Does your employer provide mental health benefits as part of healthcare coverage?</th>\n",
       "      <th>Do you know the options for mental health care available under your employer-provided coverage?</th>\n",
       "      <th>Has your employer ever formally discussed mental health (for example, as part of a wellness campaign or other official communication)?</th>\n",
       "      <th>Does your employer offer resources to learn more about mental health concerns and options for seeking help?</th>\n",
       "      <th>Is your anonymity protected if you choose to take advantage of mental health or substance abuse treatment resources provided by your employer?</th>\n",
       "      <th>If a mental health issue prompted you to request a medical leave from work, asking for that leave would be:</th>\n",
       "      <th>...</th>\n",
       "      <th>If you have a mental health issue, do you feel that it interferes with your work when being treated effectively?</th>\n",
       "      <th>If you have a mental health issue, do you feel that it interferes with your work when NOT being treated effectively?</th>\n",
       "      <th>What is your age?</th>\n",
       "      <th>What is your gender?</th>\n",
       "      <th>What country do you live in?</th>\n",
       "      <th>What US state or territory do you live in?</th>\n",
       "      <th>What country do you work in?</th>\n",
       "      <th>What US state or territory do you work in?</th>\n",
       "      <th>Which of the following best describes your work position?</th>\n",
       "      <th>Do you work remotely?</th>\n",
       "    </tr>\n",
       "  </thead>\n",
       "  <tbody>\n",
       "    <tr>\n",
       "      <td>0</td>\n",
       "      <td>0</td>\n",
       "      <td>26-100</td>\n",
       "      <td>1.0</td>\n",
       "      <td>NaN</td>\n",
       "      <td>Not eligible for coverage / N/A</td>\n",
       "      <td>NaN</td>\n",
       "      <td>No</td>\n",
       "      <td>No</td>\n",
       "      <td>I don't know</td>\n",
       "      <td>Very easy</td>\n",
       "      <td>...</td>\n",
       "      <td>Not applicable to me</td>\n",
       "      <td>Not applicable to me</td>\n",
       "      <td>39</td>\n",
       "      <td>Male</td>\n",
       "      <td>United Kingdom</td>\n",
       "      <td>NaN</td>\n",
       "      <td>United Kingdom</td>\n",
       "      <td>NaN</td>\n",
       "      <td>Back-end Developer</td>\n",
       "      <td>Sometimes</td>\n",
       "    </tr>\n",
       "    <tr>\n",
       "      <td>1</td>\n",
       "      <td>0</td>\n",
       "      <td>6-25</td>\n",
       "      <td>1.0</td>\n",
       "      <td>NaN</td>\n",
       "      <td>No</td>\n",
       "      <td>Yes</td>\n",
       "      <td>Yes</td>\n",
       "      <td>Yes</td>\n",
       "      <td>Yes</td>\n",
       "      <td>Somewhat easy</td>\n",
       "      <td>...</td>\n",
       "      <td>Rarely</td>\n",
       "      <td>Sometimes</td>\n",
       "      <td>29</td>\n",
       "      <td>male</td>\n",
       "      <td>United States of America</td>\n",
       "      <td>Illinois</td>\n",
       "      <td>United States of America</td>\n",
       "      <td>Illinois</td>\n",
       "      <td>Back-end Developer|Front-end Developer</td>\n",
       "      <td>Never</td>\n",
       "    </tr>\n",
       "    <tr>\n",
       "      <td>2</td>\n",
       "      <td>0</td>\n",
       "      <td>6-25</td>\n",
       "      <td>1.0</td>\n",
       "      <td>NaN</td>\n",
       "      <td>No</td>\n",
       "      <td>NaN</td>\n",
       "      <td>No</td>\n",
       "      <td>No</td>\n",
       "      <td>I don't know</td>\n",
       "      <td>Neither easy nor difficult</td>\n",
       "      <td>...</td>\n",
       "      <td>Not applicable to me</td>\n",
       "      <td>Not applicable to me</td>\n",
       "      <td>38</td>\n",
       "      <td>Male</td>\n",
       "      <td>United Kingdom</td>\n",
       "      <td>NaN</td>\n",
       "      <td>United Kingdom</td>\n",
       "      <td>NaN</td>\n",
       "      <td>Back-end Developer</td>\n",
       "      <td>Always</td>\n",
       "    </tr>\n",
       "    <tr>\n",
       "      <td>3</td>\n",
       "      <td>1</td>\n",
       "      <td>NaN</td>\n",
       "      <td>NaN</td>\n",
       "      <td>NaN</td>\n",
       "      <td>NaN</td>\n",
       "      <td>NaN</td>\n",
       "      <td>NaN</td>\n",
       "      <td>NaN</td>\n",
       "      <td>NaN</td>\n",
       "      <td>NaN</td>\n",
       "      <td>...</td>\n",
       "      <td>Sometimes</td>\n",
       "      <td>Sometimes</td>\n",
       "      <td>43</td>\n",
       "      <td>male</td>\n",
       "      <td>United Kingdom</td>\n",
       "      <td>NaN</td>\n",
       "      <td>United Kingdom</td>\n",
       "      <td>NaN</td>\n",
       "      <td>Supervisor/Team Lead</td>\n",
       "      <td>Sometimes</td>\n",
       "    </tr>\n",
       "    <tr>\n",
       "      <td>4</td>\n",
       "      <td>0</td>\n",
       "      <td>6-25</td>\n",
       "      <td>0.0</td>\n",
       "      <td>1.0</td>\n",
       "      <td>Yes</td>\n",
       "      <td>Yes</td>\n",
       "      <td>No</td>\n",
       "      <td>No</td>\n",
       "      <td>No</td>\n",
       "      <td>Neither easy nor difficult</td>\n",
       "      <td>...</td>\n",
       "      <td>Sometimes</td>\n",
       "      <td>Sometimes</td>\n",
       "      <td>43</td>\n",
       "      <td>Female</td>\n",
       "      <td>United States of America</td>\n",
       "      <td>Illinois</td>\n",
       "      <td>United States of America</td>\n",
       "      <td>Illinois</td>\n",
       "      <td>Executive Leadership|Supervisor/Team Lead|Dev ...</td>\n",
       "      <td>Sometimes</td>\n",
       "    </tr>\n",
       "  </tbody>\n",
       "</table>\n",
       "<p>5 rows × 63 columns</p>\n",
       "</div>"
      ],
      "text/plain": [
       "   Are you self-employed?  \\\n",
       "0                       0   \n",
       "1                       0   \n",
       "2                       0   \n",
       "3                       1   \n",
       "4                       0   \n",
       "\n",
       "  How many employees does your company or organization have?  \\\n",
       "0                                             26-100           \n",
       "1                                               6-25           \n",
       "2                                               6-25           \n",
       "3                                                NaN           \n",
       "4                                               6-25           \n",
       "\n",
       "   Is your employer primarily a tech company/organization?  \\\n",
       "0                                                1.0         \n",
       "1                                                1.0         \n",
       "2                                                1.0         \n",
       "3                                                NaN         \n",
       "4                                                0.0         \n",
       "\n",
       "   Is your primary role within your company related to tech/IT?  \\\n",
       "0                                                NaN              \n",
       "1                                                NaN              \n",
       "2                                                NaN              \n",
       "3                                                NaN              \n",
       "4                                                1.0              \n",
       "\n",
       "  Does your employer provide mental health benefits as part of healthcare coverage?  \\\n",
       "0                    Not eligible for coverage / N/A                                  \n",
       "1                                                 No                                  \n",
       "2                                                 No                                  \n",
       "3                                                NaN                                  \n",
       "4                                                Yes                                  \n",
       "\n",
       "  Do you know the options for mental health care available under your employer-provided coverage?  \\\n",
       "0                                                NaN                                                \n",
       "1                                                Yes                                                \n",
       "2                                                NaN                                                \n",
       "3                                                NaN                                                \n",
       "4                                                Yes                                                \n",
       "\n",
       "  Has your employer ever formally discussed mental health (for example, as part of a wellness campaign or other official communication)?  \\\n",
       "0                                                 No                                                                                       \n",
       "1                                                Yes                                                                                       \n",
       "2                                                 No                                                                                       \n",
       "3                                                NaN                                                                                       \n",
       "4                                                 No                                                                                       \n",
       "\n",
       "  Does your employer offer resources to learn more about mental health concerns and options for seeking help?  \\\n",
       "0                                                 No                                                            \n",
       "1                                                Yes                                                            \n",
       "2                                                 No                                                            \n",
       "3                                                NaN                                                            \n",
       "4                                                 No                                                            \n",
       "\n",
       "  Is your anonymity protected if you choose to take advantage of mental health or substance abuse treatment resources provided by your employer?  \\\n",
       "0                                       I don't know                                                                                               \n",
       "1                                                Yes                                                                                               \n",
       "2                                       I don't know                                                                                               \n",
       "3                                                NaN                                                                                               \n",
       "4                                                 No                                                                                               \n",
       "\n",
       "  If a mental health issue prompted you to request a medical leave from work, asking for that leave would be:  \\\n",
       "0                                          Very easy                                                            \n",
       "1                                      Somewhat easy                                                            \n",
       "2                         Neither easy nor difficult                                                            \n",
       "3                                                NaN                                                            \n",
       "4                         Neither easy nor difficult                                                            \n",
       "\n",
       "   ...  \\\n",
       "0  ...   \n",
       "1  ...   \n",
       "2  ...   \n",
       "3  ...   \n",
       "4  ...   \n",
       "\n",
       "  If you have a mental health issue, do you feel that it interferes with your work when being treated effectively?  \\\n",
       "0                               Not applicable to me                                                                 \n",
       "1                                             Rarely                                                                 \n",
       "2                               Not applicable to me                                                                 \n",
       "3                                          Sometimes                                                                 \n",
       "4                                          Sometimes                                                                 \n",
       "\n",
       "  If you have a mental health issue, do you feel that it interferes with your work when NOT being treated effectively?  \\\n",
       "0                               Not applicable to me                                                                     \n",
       "1                                          Sometimes                                                                     \n",
       "2                               Not applicable to me                                                                     \n",
       "3                                          Sometimes                                                                     \n",
       "4                                          Sometimes                                                                     \n",
       "\n",
       "  What is your age? What is your gender? What country do you live in?  \\\n",
       "0                39                 Male               United Kingdom   \n",
       "1                29                 male     United States of America   \n",
       "2                38                Male                United Kingdom   \n",
       "3                43                 male               United Kingdom   \n",
       "4                43               Female     United States of America   \n",
       "\n",
       "  What US state or territory do you live in?  What country do you work in?  \\\n",
       "0                                        NaN                United Kingdom   \n",
       "1                                   Illinois      United States of America   \n",
       "2                                        NaN                United Kingdom   \n",
       "3                                        NaN                United Kingdom   \n",
       "4                                   Illinois      United States of America   \n",
       "\n",
       "  What US state or territory do you work in?  \\\n",
       "0                                        NaN   \n",
       "1                                   Illinois   \n",
       "2                                        NaN   \n",
       "3                                        NaN   \n",
       "4                                   Illinois   \n",
       "\n",
       "  Which of the following best describes your work position?  \\\n",
       "0                                 Back-end Developer          \n",
       "1             Back-end Developer|Front-end Developer          \n",
       "2                                 Back-end Developer          \n",
       "3                               Supervisor/Team Lead          \n",
       "4  Executive Leadership|Supervisor/Team Lead|Dev ...          \n",
       "\n",
       "  Do you work remotely?  \n",
       "0             Sometimes  \n",
       "1                 Never  \n",
       "2                Always  \n",
       "3             Sometimes  \n",
       "4             Sometimes  \n",
       "\n",
       "[5 rows x 63 columns]"
      ]
     },
     "execution_count": 7,
     "metadata": {},
     "output_type": "execute_result"
    }
   ],
   "source": [
    "mtech.head(5)"
   ]
  },
  {
   "cell_type": "markdown",
   "metadata": {},
   "source": [
    "##### PLoting the sns plot"
   ]
  },
  {
   "cell_type": "code",
   "execution_count": 8,
   "metadata": {},
   "outputs": [
    {
     "data": {
      "text/plain": [
       "<seaborn.axisgrid.FacetGrid at 0x1a217d3e90>"
      ]
     },
     "execution_count": 8,
     "metadata": {},
     "output_type": "execute_result"
    },
    {
     "data": {
      "image/png": "[encoded data removed]",
      "text/plain": [
       "<Figure size 843.25x360 with 2 Axes>"
      ]
     },
     "metadata": {
      "needs_background": "light"
     },
     "output_type": "display_data"
    }
   ],
   "source": [
    "sns.catplot(x='Are you self-employed?', hue='Do you work remotely?', col='Is your employer primarily a tech company/organization?', kind='count', data=mtech)"
   ]
  },
  {
   "cell_type": "markdown",
   "metadata": {},
   "source": [
    "###### anonymity - Is your anonymity protected if you choose to take advantage of mental health or substance abuse treatment resources?\n",
    "leave - How easy is it for you to take medical leave for a mental health condition?\n",
    "coworkers - Would you be willing to discuss a mental health issue with your coworkers?\n",
    "supervisor - Would you be willing to discuss a mental health issue with your direct supervisor(s)?\n",
    "\n",
    "\n",
    "To be Continued....."
   ]
  },
  {
   "cell_type": "code",
   "execution_count": 9,
   "metadata": {},
   "outputs": [
    {
     "data": {
      "text/html": [
       "<div>\n",
       "<style scoped>\n",
       "    .dataframe tbody tr th:only-of-type {\n",
       "        vertical-align: middle;\n",
       "    }\n",
       "\n",
       "    .dataframe tbody tr th {\n",
       "        vertical-align: top;\n",
       "    }\n",
       "\n",
       "    .dataframe thead th {\n",
       "        text-align: right;\n",
       "    }\n",
       "</style>\n",
       "<table border=\"1\" class=\"dataframe\">\n",
       "  <thead>\n",
       "    <tr style=\"text-align: right;\">\n",
       "      <th></th>\n",
       "      <th>How many employees does your company or organization have?</th>\n",
       "      <th>Does your employer provide mental health benefits as part of healthcare coverage?</th>\n",
       "      <th>Do you know the options for mental health care available under your employer-provided coverage?</th>\n",
       "      <th>Has your employer ever formally discussed mental health (for example, as part of a wellness campaign or other official communication)?</th>\n",
       "      <th>Does your employer offer resources to learn more about mental health concerns and options for seeking help?</th>\n",
       "      <th>Is your anonymity protected if you choose to take advantage of mental health or substance abuse treatment resources provided by your employer?</th>\n",
       "      <th>If a mental health issue prompted you to request a medical leave from work, asking for that leave would be:</th>\n",
       "      <th>Do you think that discussing a mental health disorder with your employer would have negative consequences?</th>\n",
       "      <th>Do you think that discussing a physical health issue with your employer would have negative consequences?</th>\n",
       "      <th>Would you feel comfortable discussing a mental health disorder with your coworkers?</th>\n",
       "      <th>...</th>\n",
       "      <th>If so, what condition(s) were you diagnosed with?</th>\n",
       "      <th>If you have a mental health issue, do you feel that it interferes with your work when being treated effectively?</th>\n",
       "      <th>If you have a mental health issue, do you feel that it interferes with your work when NOT being treated effectively?</th>\n",
       "      <th>What is your gender?</th>\n",
       "      <th>What country do you live in?</th>\n",
       "      <th>What US state or territory do you live in?</th>\n",
       "      <th>What country do you work in?</th>\n",
       "      <th>What US state or territory do you work in?</th>\n",
       "      <th>Which of the following best describes your work position?</th>\n",
       "      <th>Do you work remotely?</th>\n",
       "    </tr>\n",
       "  </thead>\n",
       "  <tbody>\n",
       "    <tr>\n",
       "      <td>count</td>\n",
       "      <td>1146</td>\n",
       "      <td>1146</td>\n",
       "      <td>1013</td>\n",
       "      <td>1146</td>\n",
       "      <td>1146</td>\n",
       "      <td>1146</td>\n",
       "      <td>1146</td>\n",
       "      <td>1146</td>\n",
       "      <td>1146</td>\n",
       "      <td>1146</td>\n",
       "      <td>...</td>\n",
       "      <td>711</td>\n",
       "      <td>1433</td>\n",
       "      <td>1433</td>\n",
       "      <td>1430</td>\n",
       "      <td>1433</td>\n",
       "      <td>840</td>\n",
       "      <td>1433</td>\n",
       "      <td>851</td>\n",
       "      <td>1433</td>\n",
       "      <td>1433</td>\n",
       "    </tr>\n",
       "    <tr>\n",
       "      <td>unique</td>\n",
       "      <td>6</td>\n",
       "      <td>4</td>\n",
       "      <td>3</td>\n",
       "      <td>3</td>\n",
       "      <td>3</td>\n",
       "      <td>3</td>\n",
       "      <td>6</td>\n",
       "      <td>3</td>\n",
       "      <td>3</td>\n",
       "      <td>3</td>\n",
       "      <td>...</td>\n",
       "      <td>116</td>\n",
       "      <td>5</td>\n",
       "      <td>5</td>\n",
       "      <td>70</td>\n",
       "      <td>53</td>\n",
       "      <td>47</td>\n",
       "      <td>53</td>\n",
       "      <td>48</td>\n",
       "      <td>264</td>\n",
       "      <td>3</td>\n",
       "    </tr>\n",
       "    <tr>\n",
       "      <td>top</td>\n",
       "      <td>26-100</td>\n",
       "      <td>Yes</td>\n",
       "      <td>No</td>\n",
       "      <td>No</td>\n",
       "      <td>No</td>\n",
       "      <td>I don't know</td>\n",
       "      <td>Somewhat easy</td>\n",
       "      <td>Maybe</td>\n",
       "      <td>No</td>\n",
       "      <td>Maybe</td>\n",
       "      <td>...</td>\n",
       "      <td>Mood Disorder (Depression, Bipolar Disorder, etc)</td>\n",
       "      <td>Not applicable to me</td>\n",
       "      <td>Often</td>\n",
       "      <td>Male</td>\n",
       "      <td>United States of America</td>\n",
       "      <td>California</td>\n",
       "      <td>United States of America</td>\n",
       "      <td>California</td>\n",
       "      <td>Back-end Developer</td>\n",
       "      <td>Sometimes</td>\n",
       "    </tr>\n",
       "    <tr>\n",
       "      <td>freq</td>\n",
       "      <td>292</td>\n",
       "      <td>531</td>\n",
       "      <td>354</td>\n",
       "      <td>813</td>\n",
       "      <td>531</td>\n",
       "      <td>742</td>\n",
       "      <td>281</td>\n",
       "      <td>487</td>\n",
       "      <td>837</td>\n",
       "      <td>479</td>\n",
       "      <td>...</td>\n",
       "      <td>187</td>\n",
       "      <td>557</td>\n",
       "      <td>538</td>\n",
       "      <td>610</td>\n",
       "      <td>840</td>\n",
       "      <td>130</td>\n",
       "      <td>851</td>\n",
       "      <td>141</td>\n",
       "      <td>263</td>\n",
       "      <td>757</td>\n",
       "    </tr>\n",
       "  </tbody>\n",
       "</table>\n",
       "<p>4 rows × 56 columns</p>\n",
       "</div>"
      ],
      "text/plain": [
       "       How many employees does your company or organization have?  \\\n",
       "count                                                1146           \n",
       "unique                                                  6           \n",
       "top                                                26-100           \n",
       "freq                                                  292           \n",
       "\n",
       "       Does your employer provide mental health benefits as part of healthcare coverage?  \\\n",
       "count                                                1146                                  \n",
       "unique                                                  4                                  \n",
       "top                                                   Yes                                  \n",
       "freq                                                  531                                  \n",
       "\n",
       "       Do you know the options for mental health care available under your employer-provided coverage?  \\\n",
       "count                                                1013                                                \n",
       "unique                                                  3                                                \n",
       "top                                                    No                                                \n",
       "freq                                                  354                                                \n",
       "\n",
       "       Has your employer ever formally discussed mental health (for example, as part of a wellness campaign or other official communication)?  \\\n",
       "count                                                1146                                                                                       \n",
       "unique                                                  3                                                                                       \n",
       "top                                                    No                                                                                       \n",
       "freq                                                  813                                                                                       \n",
       "\n",
       "       Does your employer offer resources to learn more about mental health concerns and options for seeking help?  \\\n",
       "count                                                1146                                                            \n",
       "unique                                                  3                                                            \n",
       "top                                                    No                                                            \n",
       "freq                                                  531                                                            \n",
       "\n",
       "       Is your anonymity protected if you choose to take advantage of mental health or substance abuse treatment resources provided by your employer?  \\\n",
       "count                                                1146                                                                                               \n",
       "unique                                                  3                                                                                               \n",
       "top                                          I don't know                                                                                               \n",
       "freq                                                  742                                                                                               \n",
       "\n",
       "       If a mental health issue prompted you to request a medical leave from work, asking for that leave would be:  \\\n",
       "count                                                1146                                                            \n",
       "unique                                                  6                                                            \n",
       "top                                         Somewhat easy                                                            \n",
       "freq                                                  281                                                            \n",
       "\n",
       "       Do you think that discussing a mental health disorder with your employer would have negative consequences?  \\\n",
       "count                                                1146                                                           \n",
       "unique                                                  3                                                           \n",
       "top                                                 Maybe                                                           \n",
       "freq                                                  487                                                           \n",
       "\n",
       "       Do you think that discussing a physical health issue with your employer would have negative consequences?  \\\n",
       "count                                                1146                                                          \n",
       "unique                                                  3                                                          \n",
       "top                                                    No                                                          \n",
       "freq                                                  837                                                          \n",
       "\n",
       "       Would you feel comfortable discussing a mental health disorder with your coworkers?  \\\n",
       "count                                                1146                                    \n",
       "unique                                                  3                                    \n",
       "top                                                 Maybe                                    \n",
       "freq                                                  479                                    \n",
       "\n",
       "        ...  If so, what condition(s) were you diagnosed with?  \\\n",
       "count   ...                                                711   \n",
       "unique  ...                                                116   \n",
       "top     ...  Mood Disorder (Depression, Bipolar Disorder, etc)   \n",
       "freq    ...                                                187   \n",
       "\n",
       "       If you have a mental health issue, do you feel that it interferes with your work when being treated effectively?  \\\n",
       "count                                                1433                                                                 \n",
       "unique                                                  5                                                                 \n",
       "top                                  Not applicable to me                                                                 \n",
       "freq                                                  557                                                                 \n",
       "\n",
       "       If you have a mental health issue, do you feel that it interferes with your work when NOT being treated effectively?  \\\n",
       "count                                                1433                                                                     \n",
       "unique                                                  5                                                                     \n",
       "top                                                 Often                                                                     \n",
       "freq                                                  538                                                                     \n",
       "\n",
       "       What is your gender? What country do you live in?  \\\n",
       "count                  1430                         1433   \n",
       "unique                   70                           53   \n",
       "top                    Male     United States of America   \n",
       "freq                    610                          840   \n",
       "\n",
       "       What US state or territory do you live in?  \\\n",
       "count                                         840   \n",
       "unique                                         47   \n",
       "top                                    California   \n",
       "freq                                          130   \n",
       "\n",
       "       What country do you work in?  \\\n",
       "count                          1433   \n",
       "unique                           53   \n",
       "top        United States of America   \n",
       "freq                            851   \n",
       "\n",
       "       What US state or territory do you work in?  \\\n",
       "count                                         851   \n",
       "unique                                         48   \n",
       "top                                    California   \n",
       "freq                                          141   \n",
       "\n",
       "       Which of the following best describes your work position?  \\\n",
       "count                                                1433          \n",
       "unique                                                264          \n",
       "top                                    Back-end Developer          \n",
       "freq                                                  263          \n",
       "\n",
       "       Do you work remotely?  \n",
       "count                   1433  \n",
       "unique                     3  \n",
       "top                Sometimes  \n",
       "freq                     757  \n",
       "\n",
       "[4 rows x 56 columns]"
      ]
     },
     "execution_count": 9,
     "metadata": {},
     "output_type": "execute_result"
    }
   ],
   "source": [
    "#Getting the unique values\n",
    "mtech.describe(include=['O'])\n"
   ]
  },
  {
   "cell_type": "markdown",
   "metadata": {},
   "source": [
    "## Data Cleaning"
   ]
  },
  {
   "cell_type": "code",
   "execution_count": 10,
   "metadata": {},
   "outputs": [],
   "source": [
    "##Data Visualization with Python Seaborn\n",
    "# clean the ages by replacing the weird ages with the mean age\n",
    "mtech.loc[(mtech['What is your age?'] > 90), 'What is your age?'] = 34\n",
    "mtech.loc[(mtech['What is your age?'] < 10), 'What is your age?'] = 34\n",
    "\n",
    "# print('Age\\tCount')\n",
    "# data['What is your age?'].value_counts()"
   ]
  },
  {
   "cell_type": "code",
   "execution_count": 11,
   "metadata": {},
   "outputs": [
    {
     "data": {
      "text/plain": [
       "array([39, 29, 38, 43, 42, 30, 37, 44, 28, 34, 35, 52, 32, 25, 31, 26, 33,\n",
       "       27, 36, 40, 46, 41, 45, 19, 21, 24, 17, 23, 22, 51, 48, 55, 50, 49,\n",
       "       20, 54, 47, 56, 57, 63, 61, 62, 53, 58, 66, 59, 15, 65, 74, 70])"
      ]
     },
     "execution_count": 11,
     "metadata": {},
     "output_type": "execute_result"
    }
   ],
   "source": [
    "#unique\n",
    "mtech['What is your age?'].unique()"
   ]
  },
  {
   "cell_type": "code",
   "execution_count": 12,
   "metadata": {},
   "outputs": [
    {
     "data": {
      "text/plain": [
       "array(['Male', 'Female', 'Genderqueer/Other'], dtype=object)"
      ]
     },
     "execution_count": 12,
     "metadata": {},
     "output_type": "execute_result"
    }
   ],
   "source": [
    "##Data Visualization with Python Seaborn\n",
    "# clean the genders by grouping the genders into 3 categories: Female, Male, Genderqueer/Other\n",
    "mtech['What is your gender?'] = mtech['What is your gender?'].replace([\n",
    "    'male', 'Male ', 'M', 'm', 'man', 'Cis male',\n",
    "    'Male.', 'Male (cis)', 'Man', 'Sex is male',\n",
    "    'cis male', 'Malr', 'Dude', \"I'm a man why didn't you make this a drop down question. You should of asked sex? And I would of answered yes please. Seriously how much text can this take? \",\n",
    "    'mail', 'M|', 'male ', 'Cis Male', 'Male (trans, FtM)',\n",
    "    'cisdude', 'cis man', 'MALE'], 'Male')\n",
    "mtech['What is your gender?'] = mtech['What is your gender?'].replace([\n",
    "    'female', 'I identify as female.', 'female ',\n",
    "    'Female assigned at birth ', 'F', 'Woman', 'fm', 'f',\n",
    "    'Cis female', 'Transitioned, M2F', 'Female or Multi-Gender Femme',\n",
    "    'Female ', 'woman', 'female/woman', 'Cisgender Female', \n",
    "    'mtf', 'fem', 'Female (props for making this a freeform field, though)',\n",
    "    ' Female', 'Cis-woman', 'AFAB', 'Transgender woman',\n",
    "    'Cis female '], 'Female')\n",
    "mtech['What is your gender?'] = mtech['What is your gender?'].replace([\n",
    "    'Bigender', 'non-binary,', 'Genderfluid (born female)',\n",
    "    'Other/Transfeminine', 'Androgynous', 'male 9:1 female, roughly',\n",
    "    'nb masculine', 'genderqueer', 'Human', 'Genderfluid',\n",
    "    'Enby', 'genderqueer woman', 'Queer', 'Agender', 'Fluid',\n",
    "    'Genderflux demi-girl', 'female-bodied; no feelings about gender',\n",
    "    'non-binary', 'Male/genderqueer', 'Nonbinary', 'Other', 'none of your business',\n",
    "    'Unicorn', 'human', 'Genderqueer'], 'Genderqueer/Other')\n",
    "\n",
    "# replace the one null with Male, the mode gender, so we don't have to drop the row\n",
    "mtech['What is your gender?'] = mtech['What is your gender?'].replace(np.NaN, 'Male')\n",
    "mtech['What is your gender?'].unique()"
   ]
  },
  {
   "cell_type": "code",
   "execution_count": 13,
   "metadata": {},
   "outputs": [],
   "source": [
    "#Dropping the column 'Why or why not ?' as it is form of string , will be require NLP to extract information.\n",
    "mtech.drop(['Why or why not?', 'Why or why not?.1'], axis=1, inplace=True)"
   ]
  },
  {
   "cell_type": "markdown",
   "metadata": {},
   "source": [
    "## Data Visulization"
   ]
  },
  {
   "cell_type": "code",
   "execution_count": 14,
   "metadata": {},
   "outputs": [
    {
     "data": {
      "image/png": "[encoded data removed]",
      "text/plain": [
       "<Figure size 432x288 with 1 Axes>"
      ]
     },
     "metadata": {
      "needs_background": "light"
     },
     "output_type": "display_data"
    }
   ],
   "source": [
    "##Data Visualization with Python Seaborn\n",
    "#Handle all the different types of disorders and their categories\n",
    "\n",
    "#Change the main reference variable \n",
    "data=mtech\n",
    "\n",
    "disorders = {}\n",
    "\n",
    "disorderCounts = dict(data['If so, what condition(s) were you diagnosed with?'].value_counts())\n",
    "\n",
    "for i in disorderCounts:\n",
    "    # get the disorders separately in case someone answered with more than one disorder\n",
    "    disorderList = i.split('|')\n",
    "    for j in disorderList:\n",
    "        j = j.split(' (')[0]\n",
    "        disorders[j] = disorders.get(j, 0) + disorderCounts[i]\n",
    "\n",
    "    \n",
    " \n",
    "    \n",
    "    \n",
    "tmp = pd.DataFrame()\n",
    "for i in disorders:\n",
    "    tmp = tmp.append([i] * disorders[i])\n",
    "\n",
    "tmp[0] = tmp[0].replace([\n",
    "    'Autism Spectrum Disorder', 'Autism - while not a \"mental illness\", still greatly affects how I handle anxiety',\n",
    "    'autism spectrum disorder', 'PDD-NOS'], 'Autism')\n",
    "tmp[0] = tmp[0].replace(['Aspergers', 'Asperger Syndrome'], \"Asperger's Syndrome\")\n",
    "tmp[0] = tmp[0].replace(['posttraumatic stress disourder'], 'Post-traumatic Stress Disorder')\n",
    "tmp[0] = tmp[0].replace(['ADD', 'Attention Deficit Disorder', 'attention deficit disorder'],\n",
    "                       'Attention Deficit Hyperactivity Disorder')\n",
    "tmp[0] = tmp[0].replace(['Schizotypal Personality Disorder'], 'Personality Disorder')\n",
    "tmp[0] = tmp[0].replace(['Depression'], 'Mood Disorder')\n",
    "tmp[0] = tmp[0].replace([\n",
    "    'Autism', \"Asperger's Syndrome\", 'Intimate Disorder',\n",
    "    'Seasonal Affective Disorder', 'Burn out', 'Gender Identity Disorder',\n",
    "    'Suicidal Ideation', 'Gender Dysphoria', 'MCD'], 'Others')\n",
    "\n",
    "# print(tmp[0].value_counts())\n",
    "g = sns.countplot(y=tmp[0], order=[\n",
    "    'Mood Disorder', 'Anxiety Disorder', 'Attention Deficit Hyperactivity Disorder',\n",
    "    'Post-traumatic Stress Disorder', 'Obsessive-Compulsive Disorder',\n",
    "    'Stress Response Syndromes', 'Personality Disorder', 'Substance Use Disorder',\n",
    "    'Eating Disorder', 'Addictive Disorder', 'Dissociative Disorder', \n",
    "    'Psychotic Disorder', 'Others'])\n",
    "g.set_ylabel('Disorders')\n",
    "g.set_title('Distribution of Mental Health Disorders')\n",
    "plt.show()"
   ]
  },
  {
   "cell_type": "code",
   "execution_count": 15,
   "metadata": {},
   "outputs": [
    {
     "data": {
      "text/plain": [
       "{'Mood Disorder': 529,\n",
       " 'Anxiety Disorder': 373,\n",
       " 'Attention Deficit Hyperactivity Disorder': 137,\n",
       " 'Post-traumatic Stress Disorder': 71,\n",
       " 'Obsessive-Compulsive Disorder': 40,\n",
       " 'Stress Response Syndromes': 31,\n",
       " 'Personality Disorder': 29,\n",
       " 'Substance Use Disorder': 26,\n",
       " 'Eating Disorder': 18,\n",
       " 'Others': 17,\n",
       " 'Addictive Disorder': 15,\n",
       " 'Dissociative Disorder': 10,\n",
       " 'Psychotic Disorder': 8}"
      ]
     },
     "execution_count": 15,
     "metadata": {},
     "output_type": "execute_result"
    }
   ],
   "source": [
    "newdata=dict(tmp[0].value_counts())\n",
    "newdata\n",
    "\n"
   ]
  },
  {
   "cell_type": "code",
   "execution_count": 16,
   "metadata": {},
   "outputs": [],
   "source": [
    " for j in newdata:\n",
    "        j = j.split(':')[0]\n",
    "        disorders[j] = disorders.get(j, 0) + disorderCounts[i]"
   ]
  },
  {
   "cell_type": "markdown",
   "metadata": {},
   "source": [
    "### Distribution of Mental Health Status for All Ages and Genders\n",
    "Most of the employees are male, and the typical age of the employees is in the 30s, as we had seen from the tabular summary of the data.\n",
    "It appears that there is slightly more male employees who do not have mental health disorders than male employees who do.\n",
    "There are definitely more female employees who have mental health disorders than those who don't."
   ]
  },
  {
   "cell_type": "markdown",
   "metadata": {},
   "source": [
    "###### Renaming the column"
   ]
  },
  {
   "cell_type": "code",
   "execution_count": 17,
   "metadata": {},
   "outputs": [],
   "source": [
    "##Data Visualization with Python Seaborn\n",
    "# to make viewing the graphs easier, shorten the column names\n",
    "data.rename(columns={'What is your age?': 'Age',\n",
    "                     'What is your gender?': 'Gender',\n",
    "                     'Do you currently have a mental health disorder?': 'Has MHD'}, inplace=True)"
   ]
  },
  {
   "cell_type": "code",
   "execution_count": 18,
   "metadata": {},
   "outputs": [
    {
     "data": {
      "image/png": "[encoded data removed]",
      "text/plain": [
       "<Figure size 872x864 with 9 Axes>"
      ]
     },
     "metadata": {
      "needs_background": "light"
     },
     "output_type": "display_data"
    }
   ],
   "source": [
    "g = sns.FacetGrid(data, row='Gender', col='Has MHD', height=4)\n",
    "g.map(plt.hist, 'Age', alpha=0.5, bins=15)\n",
    "g.add_legend()\n",
    "plt.show()"
   ]
  },
  {
   "cell_type": "markdown",
   "metadata": {},
   "source": [
    "#### Willingness to Bring Up Health Issues in an Interview: Physical vs. Mental\n",
    "\n",
    "##Data Visualization with Python Seaborn\n",
    "Physical Health Issues::\n",
    "Males tend to be split as to whether or not they are willing to mention their health conditions.\n",
    "Females, on the other hand, are a little more unwilling to mention their physical health issues.\n",
    "Mental Health Issues::\n",
    "Compared to physical health issues, very few people of all genders are willing to bring up mental health issues during an interview with a potential employer. This may be due to the stigma or fear that the issue will get in the way of their performance, which may result in a potential employer to not offer them the job.\n",
    "It is interesting to note that a large majority of the female survey participants won't mention mental health issues during an interview."
   ]
  },
  {
   "cell_type": "code",
   "execution_count": 19,
   "metadata": {},
   "outputs": [
    {
     "data": {
      "image/png": "[encoded data removed]",
      "text/plain": [
       "<Figure size 432x288 with 2 Axes>"
      ]
     },
     "metadata": {
      "needs_background": "light"
     },
     "output_type": "display_data"
    }
   ],
   "source": [
    "##Data Visualization with Python Seaborn\n",
    "fig, (ax1, ax2) = plt.subplots(ncols=2, sharey=True)\n",
    "fig.suptitle('Responses to \"Would you bring up a health issue\\nwith a potential employer in an interview?\"')\n",
    "g1 = sns.countplot(x='Would you be willing to bring up a physical health issue with a potential employer in an interview?',\n",
    "                  hue='Gender', data=data, ax=ax1, order=['Yes', 'No', 'Maybe'])\n",
    "\n",
    "g2 = sns.countplot(x='Would you bring up a mental health issue with a potential employer in an interview?',\n",
    "                  hue='Gender', data=data, ax=ax2, order=['Yes', 'No', 'Maybe'])\n",
    "\n",
    "g1.legend_.remove()\n",
    "plt.legend(bbox_to_anchor=(1.05, 1), loc=2, borderaxespad=0., title='Gender')\n",
    "g1.set_xlabel('# Responses for\\nPhysical Health Issues')\n",
    "g2.set_xlabel('# Responses for\\nMental Health Issues')\n",
    "g2.set_ylabel('')\n",
    "plt.show()"
   ]
  },
  {
   "cell_type": "markdown",
   "metadata": {},
   "source": [
    "#### Is Having Mental Health Issues is Harmful to One's Career?\n",
    "The majority of the survey participants believe that being identified as a person having a mental health issue would hurt their career.\n",
    "This is likely to be the reason why many people would not mention their mental health issue to a potential employer during an interview since they are worried it would affect their chance at getting the job offer.\n",
    "There are also very few people who can testify that being identified as someone with a mental health issue does not harm their careers. There are relatively more people who disagree and say that it does in fact harm their career."
   ]
  },
  {
   "cell_type": "code",
   "execution_count": 20,
   "metadata": {},
   "outputs": [
    {
     "data": {
      "image/png": "[encoded data removed]",
      "text/plain": [
       "<Figure size 432x288 with 1 Axes>"
      ]
     },
     "metadata": {
      "needs_background": "light"
     },
     "output_type": "display_data"
    }
   ],
   "source": [
    "##Data Visualization with Python Seaborn\n",
    "\n",
    "g = sns.countplot(y='Do you feel that being identified as a person with a mental health issue would hurt your career?',\n",
    "                 hue='Gender', data=data, \n",
    "                  order=['Yes, it has', 'Yes, I think it would',\n",
    "                        'No, it has not', \"No, I don't think it would\", 'Maybe'])\n",
    "\n",
    "data['Do you feel that being identified as a person with a mental health issue would hurt your career?']\n",
    "\n",
    "plt.title('Number of People who Believe Identifying as a Person\\nwith a Mental Health Issue is Harmful to Career')\n",
    "plt.legend(bbox_to_anchor=(1.05, 1), loc=2, borderaxespad=0., title='Gender')\n",
    "plt.ylabel('Number of Responses')\n",
    "plt.show()"
   ]
  },
  {
   "cell_type": "code",
   "execution_count": 31,
   "metadata": {},
   "outputs": [
    {
     "data": {
      "text/plain": [
       "{'Maybe': 588,\n",
       " 'Yes, I think it would': 563,\n",
       " \"No, I don't think it would\": 147,\n",
       " 'Yes, it has': 105,\n",
       " 'No, it has not': 30}"
      ]
     },
     "execution_count": 31,
     "metadata": {},
     "output_type": "execute_result"
    }
   ],
   "source": [
    "\n",
    "newdata1=dict(data['Do you feel that being identified as a person with a mental health issue would hurt your career?'].value_counts())\n",
    "newdata1"
   ]
  },
  {
   "cell_type": "markdown",
   "metadata": {},
   "source": [
    "## Awareness"
   ]
  },
  {
   "cell_type": "markdown",
   "metadata": {},
   "source": [
    "### Potential Negative Consequences for Discussing Health Issues with Employer: Physical vs. Mental\n"
   ]
  },
  {
   "cell_type": "markdown",
   "metadata": {},
   "source": [
    "##### Physical Health Issues"
   ]
  },
  {
   "cell_type": "markdown",
   "metadata": {},
   "source": [
    "The large majority of people are certain that discussing physical health issues with their employers will not result in negative consequences.\n",
    "The results here are as expected, especially after seeing the responses to the questions visualized above.\n"
   ]
  },
  {
   "cell_type": "markdown",
   "metadata": {},
   "source": [
    "#### Mental Health Disorders"
   ]
  },
  {
   "cell_type": "markdown",
   "metadata": {},
   "source": [
    " The answers to whether or not discussing mental health disorders with employers will result in negative consequences is more divided.\n",
    "Some people believe that discussing mental health disorders will result in a negative consequences.\n",
    "However, there are still more people who believe there won't be any negative consequences. This may be because they have already developed a employer-employee relationship and there is a layer of trust when it comes to talking about issues that are on people's minds.\n",
    "There are also some people who are unsure of whether or not there would be any negative consequences."
   ]
  },
  {
   "cell_type": "markdown",
   "metadata": {},
   "source": [
    "##### No need to add gender as no useful information is coming oiut that we can do with the gender"
   ]
  },
  {
   "cell_type": "code",
   "execution_count": 21,
   "metadata": {},
   "outputs": [
    {
     "data": {
      "image/png": "[encoded data removed]",
      "text/plain": [
       "<Figure size 432x288 with 2 Axes>"
      ]
     },
     "metadata": {
      "needs_background": "light"
     },
     "output_type": "display_data"
    }
   ],
   "source": [
    "##Data Visualization with Python Seaborn\n",
    "fig, (ax1, ax2) = plt.subplots(ncols=2, sharey=True)\n",
    "fig.suptitle('Responses to \"Do you think that discussing a health issue\\nwith your employer would have negative consequences?\"')\n",
    "g1 = sns.countplot(x='Do you think that discussing a physical health issue with your employer would have negative consequences?',\n",
    "                  hue='Gender', data=data, ax=ax1, order=['Yes', 'No', 'Maybe'])\n",
    "\n",
    "g2 = sns.countplot(x='Do you think that discussing a mental health disorder with your employer would have negative consequences?',\n",
    "                  hue='Gender', data=data, ax=ax2, order=['Yes', 'No', 'Maybe'])\n",
    "\n",
    "g1.legend_.remove()\n",
    "plt.legend(bbox_to_anchor=(1.05, 1), loc=2, borderaxespad=0., title='Gender')\n",
    "g1.set_xlabel('# Responses for\\nPhysical Health Issues')\n",
    "g2.set_xlabel('# Responses for\\nMental Health Issues')\n",
    "g2.set_ylabel('')\n",
    "plt.show()"
   ]
  },
  {
   "cell_type": "markdown",
   "metadata": {},
   "source": [
    "#### No need to add the below graph as if the upper graph can be handed without gender"
   ]
  },
  {
   "cell_type": "code",
   "execution_count": 22,
   "metadata": {},
   "outputs": [
    {
     "data": {
      "image/png": "[encoded data removed]",
      "text/plain": [
       "<Figure size 432x288 with 1 Axes>"
      ]
     },
     "metadata": {
      "needs_background": "light"
     },
     "output_type": "display_data"
    }
   ],
   "source": [
    "##Data Visualization with Python Seaborn\n",
    "\n",
    "g = sns.countplot(x='Do you think that discussing a mental health disorder with your employer would have negative consequences?',\n",
    "              #  hue='Does your employer provide mental health benefits as part of healthcare coverage?',\n",
    "                 data=data, \n",
    "                 order=['Yes', 'No', 'Maybe'],\n",
    "                 hue_order=['Yes', 'No', \"I don't know\", 'Not eligible for coverage / N/A'])\n",
    "\n",
    "plt.title('Responses to \"Do you think that discussing a mental health disorder\\nwith your employer would have negative consequences?\"')\n",
    "plt.xlabel('Number of Responses')\n",
    "#plt.legend(bbox_to_anchor=(1.05, 1), loc=2, borderaxespad=0.,\n",
    " #        title='Mental Health Benefits are Part of Healthcare Coverage')\n",
    "plt.show()"
   ]
  },
  {
   "cell_type": "code",
   "execution_count": 32,
   "metadata": {},
   "outputs": [
    {
     "data": {
      "text/plain": [
       "{'Maybe': 487, 'No': 438, 'Yes': 221}"
      ]
     },
     "execution_count": 32,
     "metadata": {},
     "output_type": "execute_result"
    }
   ],
   "source": [
    "newdata=dict(data['Do you think that discussing a mental health disorder with your employer would have negative consequences?'].value_counts())\n",
    "newdata"
   ]
  },
  {
   "cell_type": "code",
   "execution_count": null,
   "metadata": {},
   "outputs": [],
   "source": []
  },
  {
   "cell_type": "markdown",
   "metadata": {},
   "source": [
    "\n",
    "\n",
    "Pie charts might be good here"
   ]
  },
  {
   "cell_type": "code",
   "execution_count": 23,
   "metadata": {},
   "outputs": [
    {
     "data": {
      "image/png": "[encoded data removed]",
      "text/plain": [
       "<Figure size 432x288 with 1 Axes>"
      ]
     },
     "metadata": {
      "needs_background": "light"
     },
     "output_type": "display_data"
    }
   ],
   "source": [
    "##Data Visualization with Python Seaborn\n",
    "data['Does your employer provide mental health benefits as part of healthcare coverage?'].value_counts();\n",
    "\n",
    "\n",
    "g = sns.countplot(x='Does your employer provide mental health benefits as part of healthcare coverage?',\n",
    "                  data=data\n",
    "                  \n",
    "               , order=['Yes', 'No',\"I don't know\"]\n",
    "                # hue_order=['Yes', 'No', \"I don't know\", 'Not eligible for coverage / N/A']\n",
    "                 )\n",
    "plt.show()\n",
    "\n"
   ]
  },
  {
   "cell_type": "code",
   "execution_count": 33,
   "metadata": {},
   "outputs": [
    {
     "data": {
      "text/plain": [
       "{'Yes': 531,\n",
       " \"I don't know\": 319,\n",
       " 'No': 213,\n",
       " 'Not eligible for coverage / N/A': 83}"
      ]
     },
     "execution_count": 33,
     "metadata": {},
     "output_type": "execute_result"
    }
   ],
   "source": [
    "newdata=dict(data['Does your employer provide mental health benefits as part of healthcare coverage?'].value_counts())\n",
    "newdata"
   ]
  },
  {
   "cell_type": "code",
   "execution_count": 24,
   "metadata": {},
   "outputs": [
    {
     "data": {
      "image/png": "[encoded data removed]",
      "text/plain": [
       "<Figure size 432x288 with 1 Axes>"
      ]
     },
     "metadata": {
      "needs_background": "light"
     },
     "output_type": "display_data"
    }
   ],
   "source": [
    "##Data Visualization with Python Seaborn\n",
    "\n",
    "data['Would you feel comfortable discussing a mental health disorder with your coworkers?'].value_counts();\n",
    "\n",
    "g = sns.countplot(x='Would you feel comfortable discussing a mental health disorder with your coworkers?',\n",
    "                  data=data\n",
    "                  \n",
    "            #   , order=['Yes', 'No',\"I don't know\"]\n",
    "                # hue_order=['Yes', 'No', \"I don't know\", 'Not eligible for coverage / N/A']\n",
    "                 )\n",
    "plt.show()"
   ]
  },
  {
   "cell_type": "code",
   "execution_count": 25,
   "metadata": {},
   "outputs": [
    {
     "data": {
      "image/png": "[encoded data removed]",
      "text/plain": [
       "<Figure size 432x288 with 1 Axes>"
      ]
     },
     "metadata": {
      "needs_background": "light"
     },
     "output_type": "display_data"
    }
   ],
   "source": [
    "##Data Visualization with Python Seaborn\n",
    "\n",
    "data['Would you feel comfortable discussing a mental health disorder with your direct supervisor(s)?'].value_counts();\n",
    "\n",
    "g = sns.countplot(x='Would you feel comfortable discussing a mental health disorder with your direct supervisor(s)?',\n",
    "                  data=data\n",
    "                  \n",
    "            #   , order=['Yes', 'No',\"I don't know\"]\n",
    "                # hue_order=['Yes', 'No', \"I don't know\", 'Not eligible for coverage / N/A']\n",
    "                 )\n",
    "plt.show()"
   ]
  },
  {
   "cell_type": "code",
   "execution_count": 34,
   "metadata": {},
   "outputs": [
    {
     "data": {
      "text/plain": [
       "{'Yes': 428, 'Maybe': 382, 'No': 336}"
      ]
     },
     "execution_count": 34,
     "metadata": {},
     "output_type": "execute_result"
    }
   ],
   "source": [
    "newdata=dict(data['Would you feel comfortable discussing a mental health disorder with your direct supervisor(s)?'].value_counts())\n",
    "newdata\n",
    "\n"
   ]
  },
  {
   "cell_type": "markdown",
   "metadata": {},
   "source": [
    "##### Change the label by changing the values in column"
   ]
  },
  {
   "cell_type": "code",
   "execution_count": 26,
   "metadata": {},
   "outputs": [
    {
     "data": {
      "image/png": "[encoded data removed]",
      "text/plain": [
       "<Figure size 432x288 with 1 Axes>"
      ]
     },
     "metadata": {
      "needs_background": "light"
     },
     "output_type": "display_data"
    }
   ],
   "source": [
    "##Data Visualization with Python Seaborn\n",
    "\n",
    "g = sns.countplot(x='Do you have medical coverage (private insurance or state-provided) which includes treatment of \\xa0mental health issues?',\n",
    "                  data=data\n",
    "                  \n",
    "            #   , order=['Yes', 'No',\"I don't know\"]\n",
    "                # hue_order=['Yes', 'No', \"I don't know\", 'Not eligible for coverage / N/A']\n",
    "                 )\n",
    "plt.show()\n"
   ]
  },
  {
   "cell_type": "markdown",
   "metadata": {},
   "source": [
    "##### Change the labels in the below graph"
   ]
  },
  {
   "cell_type": "code",
   "execution_count": 27,
   "metadata": {},
   "outputs": [
    {
     "data": {
      "text/plain": [
       "Not applicable to me                         111\n",
       "Sometimes, if it comes up                     99\n",
       "No, because it would impact me negatively     51\n",
       "No, because it doesn't matter                 15\n",
       "Yes, always                                   11\n",
       "Name: If you have been diagnosed or treated for a mental health disorder, do you ever reveal this to coworkers or employees?, dtype: int64"
      ]
     },
     "execution_count": 27,
     "metadata": {},
     "output_type": "execute_result"
    }
   ],
   "source": [
    "##Data Visualization with Python Seaborn\n",
    "data['If you have been diagnosed or treated for a mental health disorder, do you ever reveal this to coworkers or employees?'].value_counts()\n",
    "\n"
   ]
  },
  {
   "cell_type": "code",
   "execution_count": 28,
   "metadata": {},
   "outputs": [
    {
     "data": {
      "image/png": "[encoded data removed]",
      "text/plain": [
       "<Figure size 432x288 with 1 Axes>"
      ]
     },
     "metadata": {
      "needs_background": "light"
     },
     "output_type": "display_data"
    }
   ],
   "source": [
    "##Data Visualization with Python Seaborn\n",
    "data['If you have been diagnosed or treated for a mental health disorder, do you ever reveal this to coworkers or employees?'].value_counts()\n",
    "\n",
    "g = sns.countplot(x='If you have been diagnosed or treated for a mental health disorder, do you ever reveal this to coworkers or employees?',\n",
    "                  data=data\n",
    "                  \n",
    "            #   , order=['Yes', 'No',\"I don't know\"]\n",
    "                # hue_order=['Yes', 'No', \"I don't know\", 'Not eligible for coverage / N/A']\n",
    "                 )\n",
    "plt.show()\n",
    "\n"
   ]
  },
  {
   "cell_type": "code",
   "execution_count": 35,
   "metadata": {},
   "outputs": [
    {
     "data": {
      "text/plain": [
       "Not applicable to me                         111\n",
       "Sometimes, if it comes up                     99\n",
       "No, because it would impact me negatively     51\n",
       "No, because it doesn't matter                 15\n",
       "Yes, always                                   11\n",
       "Name: If you have been diagnosed or treated for a mental health disorder, do you ever reveal this to coworkers or employees?, dtype: int64"
      ]
     },
     "execution_count": 35,
     "metadata": {},
     "output_type": "execute_result"
    }
   ],
   "source": [
    "data['If you have been diagnosed or treated for a mental health disorder, do you ever reveal this to coworkers or employees?'].value_counts()"
   ]
  },
  {
   "cell_type": "code",
   "execution_count": 29,
   "metadata": {},
   "outputs": [],
   "source": [
    "#Geographic location Remaining "
   ]
  },
  {
   "cell_type": "code",
   "execution_count": null,
   "metadata": {},
   "outputs": [],
   "source": []
  },
  {
   "cell_type": "code",
   "execution_count": null,
   "metadata": {},
   "outputs": [],
   "source": []
  },
  {
   "cell_type": "code",
   "execution_count": null,
   "metadata": {},
   "outputs": [],
   "source": []
  }
 ],
 "metadata": {
  "kernelspec": {
   "display_name": "macbook",
   "language": "python",
   "name": "macbook"
  },
  "language_info": {
   "codemirror_mode": {
    "name": "ipython",
    "version": 3
   },
   "file_extension": ".py",
   "mimetype": "text/x-python",
   "name": "python",
   "nbconvert_exporter": "python",
   "pygments_lexer": "ipython3",
   "version": "3.7.4"
  }
 },
 "nbformat": 4,
 "nbformat_minor": 2
}
